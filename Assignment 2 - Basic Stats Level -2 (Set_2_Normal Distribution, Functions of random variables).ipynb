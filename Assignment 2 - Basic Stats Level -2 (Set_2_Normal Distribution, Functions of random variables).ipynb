{
 "cells": [
  {
   "cell_type": "markdown",
   "id": "e314288b",
   "metadata": {},
   "source": [
    "###  Q1.The time required for servicing transmissions is normally distributed with mean = 45 minutes and std deviation = 8 minutes. The service manager plans to have work begin on the transmission of a customer’s car 10 minutes after the car is dropped off and the customer is told that the car will be ready within 1 hour from drop-off. What is the probability that the service manager cannot meet his commitment? "
   ]
  },
  {
   "cell_type": "code",
   "execution_count": 1,
   "id": "25c72d6b",
   "metadata": {},
   "outputs": [],
   "source": [
    "# Import Necessary Libraries\n",
    "\n",
    "from scipy import stats\n",
    "from scipy.stats import norm"
   ]
  },
  {
   "cell_type": "code",
   "execution_count": 2,
   "id": "47adda3b",
   "metadata": {},
   "outputs": [
    {
     "data": {
      "text/plain": [
       "0.625"
      ]
     },
     "execution_count": 2,
     "metadata": {},
     "output_type": "execute_result"
    }
   ],
   "source": [
    "# Find Z-Scores at X=50; Z = (X - µ) / σ \n",
    "Z=(50-45)/8\n",
    "Z"
   ]
  },
  {
   "cell_type": "code",
   "execution_count": 8,
   "id": "0ef38dad",
   "metadata": {},
   "outputs": [
    {
     "name": "stdout",
     "output_type": "stream",
     "text": [
      "The probability that the service manager cannot meet his commitment is  0.266\n"
     ]
    }
   ],
   "source": [
    "# Find probability P(X>50) = 1-stats.norm.cdf(abs(z_score))\n",
    "prob = 1-stats.norm.cdf(abs(0.625)).round(4)\n",
    "print(\"The probability that the service manager cannot meet his commitment is \",prob)"
   ]
  },
  {
   "cell_type": "markdown",
   "id": "f06d4a34",
   "metadata": {},
   "source": [
    "### Q2. The current age (in years) of 400 clerical employees at an insurance claims processing center is normally distributed with mean = 38 and Standard deviation = 6. For each statement below, please specify True/False. If false, briefly explain why.\n",
    "* A. More employees at the processing center are older than 44 than between 38 and 44.\n",
    "* B. A training program for employees under the age of 30 at the center would be expected to attract about 36 employees.\n"
   ]
  },
  {
   "cell_type": "markdown",
   "id": "6b8b97fe",
   "metadata": {},
   "source": [
    "###  A. More employees at the processing center are older than 44 than between 38 and 44."
   ]
  },
  {
   "cell_type": "code",
   "execution_count": 32,
   "id": "c443b80f",
   "metadata": {},
   "outputs": [
    {
     "name": "stdout",
     "output_type": "stream",
     "text": [
      "Probability that Employees at the processing center are older than 44 is  0.1587\n",
      "Employee older than 44 are  63 out of 400\n"
     ]
    }
   ],
   "source": [
    "# p(X>44); Employees older than 44 yrs of age\n",
    "prob_44 = (1-stats.norm.cdf(44,loc=38,scale=6)).round(4)\n",
    "print(\"Probability that Employees at the processing center are older than 44 is \",prob_44)\n",
    "per_44 = int(400*prob_44)\n",
    "print(\"Employee older than 44 are \",per_44, \"out of 400\")"
   ]
  },
  {
   "cell_type": "code",
   "execution_count": 31,
   "id": "c930f555",
   "metadata": {},
   "outputs": [
    {
     "name": "stdout",
     "output_type": "stream",
     "text": [
      "Probability that Employees at the processing center are between 38 to 44 yrs of age is  0.3413\n",
      "Employee between 38 to 44 yrs of age are  136 out of 400\n"
     ]
    }
   ],
   "source": [
    "# p(38<X<44); Employees between 38 to 44 yrs of age\n",
    "prob = (stats.norm.cdf(44,38,6)-stats.norm.cdf(38,38,6)).round(4)\n",
    "print(\"Probability that Employees at the processing center are between 38 to 44 yrs of age is \",prob)\n",
    "per = int(400*prob)\n",
    "print(\"Employee between 38 to 44 yrs of age are \",per ,\"out of 400\")"
   ]
  },
  {
   "cell_type": "markdown",
   "id": "a95dbbeb",
   "metadata": {},
   "source": [
    "### Hence More employees at the processing center are older than 44 than between 38 and 44. is FALSE"
   ]
  },
  {
   "cell_type": "markdown",
   "id": "d85262c8",
   "metadata": {},
   "source": [
    "###  B. A training program for employees under the age of 30 at the center would be expected to attract about 36 employees."
   ]
  },
  {
   "cell_type": "code",
   "execution_count": 36,
   "id": "0b180f55",
   "metadata": {},
   "outputs": [
    {
     "name": "stdout",
     "output_type": "stream",
     "text": [
      "Probability that Employees at the processing center are under the age of 30 is  0.0912\n",
      "Employee under the age of 30 are  36 out of 400\n"
     ]
    }
   ],
   "source": [
    "# P(X<30); Employees under 30 yrs of age\n",
    "prob_30 = stats.norm.cdf(30,38,6).round(4)\n",
    "print(\"Probability that Employees at the processing center are under the age of 30 is \",prob_30)\n",
    "per_30 = int(400*prob_30)\n",
    "print(\"Employee under the age of 30 are \",per_30, \"out of 400\")"
   ]
  },
  {
   "cell_type": "markdown",
   "id": "aef05bee",
   "metadata": {},
   "source": [
    "### Hence A training program for employees under the age of 30 at the center would be expected to attract about 36 employees - TRUE"
   ]
  },
  {
   "cell_type": "markdown",
   "id": "a141d798",
   "metadata": {},
   "source": [
    "### Q4."
   ]
  },
  {
   "cell_type": "code",
   "execution_count": 37,
   "id": "7b7d32ec",
   "metadata": {},
   "outputs": [
    {
     "data": {
      "text/plain": [
       "-2.575829303548901"
      ]
     },
     "execution_count": 37,
     "metadata": {},
     "output_type": "execute_result"
    }
   ],
   "source": [
    "stats.norm.ppf(0.005)"
   ]
  },
  {
   "cell_type": "code",
   "execution_count": 38,
   "id": "5e250097",
   "metadata": {},
   "outputs": [
    {
     "data": {
      "text/plain": [
       "2.5758293035489004"
      ]
     },
     "execution_count": 38,
     "metadata": {},
     "output_type": "execute_result"
    }
   ],
   "source": [
    "stats.norm.ppf(0.995)"
   ]
  },
  {
   "cell_type": "markdown",
   "id": "000b8cb4",
   "metadata": {},
   "source": [
    "### Q5. Consider a company that has two different divisions. The annual profits from the two divisions are independent and have distributions Profit1 ~ N(5, 32) and Profit2 ~ N(7, 42) respectively. Both the profits are in dollar Million. Answer the following questions about the total profit of the company in Rupees. Assume that 1 dollar = Rs. 45\n",
    "* A. Specify a Rupee range (centered on the mean) such that it contains 95% probability for the annual profit of the company.\n",
    "* B. Specify the 5th percentile of profit (in Rupees) for the company\n",
    "* C. Which of the two divisions has a larger probability of making a loss in a given year?\n",
    "\n"
   ]
  },
  {
   "cell_type": "code",
   "execution_count": 39,
   "id": "05f4c13c",
   "metadata": {},
   "outputs": [],
   "source": [
    "import numpy as np\n",
    "from scipy import stats\n",
    "from scipy.stats import norm"
   ]
  },
  {
   "cell_type": "code",
   "execution_count": 40,
   "id": "62d3a957",
   "metadata": {},
   "outputs": [
    {
     "name": "stdout",
     "output_type": "stream",
     "text": [
      "Mean Profit is Rs 540 Million\n"
     ]
    }
   ],
   "source": [
    "# Mean profits from two different divisions of a company = Mean1 + Mean2\n",
    "Mean = 5+7\n",
    "print('Mean Profit is Rs', Mean*45,'Million')"
   ]
  },
  {
   "cell_type": "code",
   "execution_count": 41,
   "id": "a9f74402",
   "metadata": {},
   "outputs": [
    {
     "name": "stdout",
     "output_type": "stream",
     "text": [
      "Standard Deviation is Rs 225.0 Million\n"
     ]
    }
   ],
   "source": [
    "# Variance of profits from two different divisions of a company = SD^2 = SD1^2 + SD2^2\n",
    "SD = np.sqrt((9)+(16))\n",
    "print('Standard Deviation is Rs', SD*45, 'Million')"
   ]
  },
  {
   "cell_type": "code",
   "execution_count": 46,
   "id": "20b52b32",
   "metadata": {},
   "outputs": [
    {
     "name": "stdout",
     "output_type": "stream",
     "text": [
      "Range is Rs (99.00810347848784, 980.9918965215122) in Millions\n"
     ]
    }
   ],
   "source": [
    "# A. Specify a Rupee range (centered on the mean) such that it contains 95% probability for the annual profit of the company.\n",
    "print('Range is Rs',(stats.norm.interval(0.95,540,225)),'in Millions')"
   ]
  },
  {
   "cell_type": "code",
   "execution_count": 47,
   "id": "29e289bd",
   "metadata": {},
   "outputs": [
    {
     "name": "stdout",
     "output_type": "stream",
     "text": [
      "5th percentile of profit (in Million Rupees) is 170.0\n"
     ]
    }
   ],
   "source": [
    "# B. Specify the 5th percentile of profit (in Rupees) for the company\n",
    "# To compute 5th Percentile, we use the formula X=μ + Zσ; wherein from z table, 5 percentile = -1.645\n",
    "X= 540+(-1.645)*(225)\n",
    "print('5th percentile of profit (in Million Rupees) is',np.round(X,))"
   ]
  },
  {
   "cell_type": "code",
   "execution_count": 48,
   "id": "f21f7f44",
   "metadata": {},
   "outputs": [],
   "source": [
    "# C. Which of the two divisions has a larger probability of making a loss in a given year?"
   ]
  },
  {
   "cell_type": "code",
   "execution_count": 49,
   "id": "9933e612",
   "metadata": {},
   "outputs": [
    {
     "data": {
      "text/plain": [
       "0.0477903522728147"
      ]
     },
     "execution_count": 49,
     "metadata": {},
     "output_type": "execute_result"
    }
   ],
   "source": [
    "# Probability of Division 1 making a loss P(X<0)\n",
    "stats.norm.cdf(0,5,3)"
   ]
  },
  {
   "cell_type": "code",
   "execution_count": 50,
   "id": "6c81e6ce",
   "metadata": {},
   "outputs": [
    {
     "data": {
      "text/plain": [
       "0.040059156863817086"
      ]
     },
     "execution_count": 50,
     "metadata": {},
     "output_type": "execute_result"
    }
   ],
   "source": [
    "# Probability of Division 2 making a loss P(X<0)\n",
    "stats.norm.cdf(0,7,4)"
   ]
  },
  {
   "cell_type": "markdown",
   "id": "12702096",
   "metadata": {},
   "source": [
    "### Hence Division 2 has a larger probability of making a loss in a given year."
   ]
  }
 ],
 "metadata": {
  "kernelspec": {
   "display_name": "Python 3 (ipykernel)",
   "language": "python",
   "name": "python3"
  },
  "language_info": {
   "codemirror_mode": {
    "name": "ipython",
    "version": 3
   },
   "file_extension": ".py",
   "mimetype": "text/x-python",
   "name": "python",
   "nbconvert_exporter": "python",
   "pygments_lexer": "ipython3",
   "version": "3.9.12"
  }
 },
 "nbformat": 4,
 "nbformat_minor": 5
}
